{
 "cells": [
  {
   "cell_type": "markdown",
   "id": "09555a81",
   "metadata": {},
   "source": [
    "# @VerbenAufgabenBot: задания с пропусками для тренировки форм немецких глаголов"
   ]
  },
  {
   "cell_type": "markdown",
   "id": "217d156a",
   "metadata": {},
   "source": [
    "#pip install newspaper\n",
    "#pip install spacy\n",
    "#pip install pyTelegramBotAPI"
   ]
  },
  {
   "cell_type": "code",
   "execution_count": 1,
   "id": "68bdb8f1",
   "metadata": {},
   "outputs": [],
   "source": [
    "import newspaper\n",
    "from newspaper import Article\n",
    "import spacy\n",
    "import re\n",
    "from collections import Counter\n",
    "import telebot\n",
    "from telebot import types\n",
    "import unittest\n",
    "import functools\n",
    "import time"
   ]
  },
  {
   "cell_type": "code",
   "execution_count": 2,
   "id": "c2885c17",
   "metadata": {},
   "outputs": [],
   "source": [
    "def timer(func):\n",
    "    @functools.wraps(func)\n",
    "    def _wrapper(*args, **kwargs):\n",
    "        start = time.perf_counter()\n",
    "        result = func(*args, **kwargs)\n",
    "        runtime = time.perf_counter() - start\n",
    "        print(f\"{func.__name__} took {runtime:.4f} secs\")\n",
    "        return result\n",
    "    return _wrapper"
   ]
  },
  {
   "cell_type": "code",
   "execution_count": 3,
   "id": "7358f19a",
   "metadata": {},
   "outputs": [],
   "source": [
    "class getArticle:\n",
    "    \n",
    "    __article: Article\n",
    "    __text: str\n",
    "        \n",
    "    def __init__(self) -> None:\n",
    "        \n",
    "        self.__article = Article \n",
    "        self.__text = ''\n",
    "        \n",
    "    def getText(self, url) -> str:\n",
    "        \"\"\" На вход подаётся ссылка, на выход - текст статьи.\n",
    "        \"\"\"\n",
    "        article = self.__article(url)\n",
    "        article.download()\n",
    "        article.parse()\n",
    "        self.__text += article.text\n",
    "        \n",
    "        return self.__text\n",
    "    \n",
    "    def saveArticle(self):\n",
    "        \"\"\" Сохраняет исходную статью в файл \"\"\"\n",
    "        file = open(\"text2.txt\", 'w', encoding=\"utf-8\")\n",
    "        file.write(self.__text)\n",
    "        file.close()"
   ]
  },
  {
   "cell_type": "code",
   "execution_count": 4,
   "id": "a5e02172",
   "metadata": {},
   "outputs": [],
   "source": [
    "art = getArticle()"
   ]
  },
  {
   "cell_type": "code",
   "execution_count": 5,
   "id": "06ab36c4",
   "metadata": {
    "scrolled": true
   },
   "outputs": [],
   "source": [
    "#a = art.getText(\"https://www.ferienwiki.de/feiertage/neujahr\")\n",
    "#print(a)"
   ]
  },
  {
   "cell_type": "code",
   "execution_count": 6,
   "id": "0cbf9235",
   "metadata": {},
   "outputs": [],
   "source": [
    "class tagWords(getArticle):\n",
    "    \n",
    "    __nlp: spacy.load\n",
    "    __doc: spacy.tokens.doc.Doc\n",
    "        \n",
    "    def pos_text(self, text) -> str:\n",
    "        \n",
    "        self.__nlp = spacy.load('de_core_news_sm')\n",
    "        self.__doc = (self.__nlp(text))\n",
    "        \n",
    "        pos_text = (' '.join('{word}/{tag}'.format(word=t.orth_, tag=t.pos_) for t in self.__doc))\n",
    "        return(pos_text)"
   ]
  },
  {
   "cell_type": "code",
   "execution_count": 7,
   "id": "660d148d",
   "metadata": {},
   "outputs": [],
   "source": [
    "tag = tagWords()"
   ]
  },
  {
   "cell_type": "code",
   "execution_count": 8,
   "id": "bac6738e",
   "metadata": {
    "scrolled": true
   },
   "outputs": [],
   "source": [
    "#t = tag.pos_text(a)\n",
    "#print(t)"
   ]
  },
  {
   "cell_type": "code",
   "execution_count": 9,
   "id": "7379e16e",
   "metadata": {},
   "outputs": [],
   "source": [
    "class cleanVerbs:\n",
    "    __clean_verb: list\n",
    "    __clean_aux: list\n",
    "    __clean_list: list\n",
    "    \n",
    "    def __init__(self) -> None:\n",
    "        self.__clean_verb = []\n",
    "        self.__clean_aux = []\n",
    "        self.__clean_list = []\n",
    "    \n",
    "    def clean_list(self, text) -> list:\n",
    "        \n",
    "        verb_list = re.findall('[a-z,A-Z,äöü,ÄÖÜ]+/VERB', text)\n",
    "        for i in verb_list:\n",
    "            i = i[:-5]\n",
    "            self.__clean_verb.append(i)\n",
    "        \n",
    "        aux_list = re.findall('[a-z,A-Z,äöü,ÄÖÜ]+/AUX', text)\n",
    "        for i in aux_list:\n",
    "            i = i[:-4]\n",
    "            self.__clean_aux.append(i)\n",
    "            \n",
    "        self.__clean_list = self.__clean_verb + self.__clean_aux\n",
    "        return(self.__clean_list)"
   ]
  },
  {
   "cell_type": "code",
   "execution_count": 10,
   "id": "6eb24301",
   "metadata": {},
   "outputs": [],
   "source": [
    "c = cleanVerbs()"
   ]
  },
  {
   "cell_type": "code",
   "execution_count": 11,
   "id": "23c2a45b",
   "metadata": {},
   "outputs": [],
   "source": [
    "#C = c.clean_list(t)"
   ]
  },
  {
   "cell_type": "code",
   "execution_count": 12,
   "id": "d2643c1d",
   "metadata": {
    "scrolled": true
   },
   "outputs": [],
   "source": [
    "class makeTask:\n",
    "    l_x: list\n",
    "    task: list\n",
    "    \n",
    "    def __init__(self) -> None:\n",
    "        l_x = [] \n",
    "        task = []\n",
    "    \n",
    "    def task_text(self, text, verbs) -> list:\n",
    "        l_x = text[0:-1].replace('\"',\"\").split(' ')\n",
    "        task = ['_____' if x in verbs else x for x in l_x]\n",
    "        return(task)\n"
   ]
  },
  {
   "cell_type": "code",
   "execution_count": 13,
   "id": "bb4f9c81",
   "metadata": {},
   "outputs": [],
   "source": [
    "#task = makeTask()\n",
    "#t = task.task_text(a, C)\n",
    "#print(t)"
   ]
  },
  {
   "cell_type": "code",
   "execution_count": 14,
   "id": "e1e450d9",
   "metadata": {},
   "outputs": [],
   "source": [
    "class findVerbs:\n",
    "    __nlp: spacy.load\n",
    "    raw_verbs: spacy.tokens.doc.Doc\n",
    "\n",
    "    def __init__(self) -> None:\n",
    "        self.__nlp = spacy.load('de_core_news_sm') \n",
    "    \n",
    "    def lemmatize (self, text) -> list:\n",
    "        raw_verbs = self.__nlp(' '.join(text))\n",
    "        lemma_list = []\n",
    "        for token in raw_verbs:\n",
    "            lemma_list.append(token.lemma_)\n",
    "        lemmas_quantity = str(dict(Counter(lemma_list)))\n",
    "        return(lemmas_quantity)"
   ]
  },
  {
   "cell_type": "code",
   "execution_count": 15,
   "id": "37e03b1b",
   "metadata": {},
   "outputs": [],
   "source": [
    "#find = findVerbs()\n",
    "\n",
    "#f = find.lemmatize(C)\n",
    "#print(f)"
   ]
  },
  {
   "cell_type": "code",
   "execution_count": 16,
   "id": "c06ed3f8",
   "metadata": {},
   "outputs": [],
   "source": [
    "#type(f)"
   ]
  },
  {
   "cell_type": "code",
   "execution_count": 17,
   "id": "128586b9",
   "metadata": {},
   "outputs": [],
   "source": [
    "@timer\n",
    "class Facade:\n",
    "    \n",
    "    def __init__(self) -> None:\n",
    "        self.get = getArticle()\n",
    "        self.tag = tagWords()\n",
    "        self.clean = cleanVerbs()\n",
    "        self.verbs = findVerbs()\n",
    "        self.task = makeTask()\n",
    "        \n",
    "        \n",
    "    def Aufgabe(self, url) -> str:\n",
    "        \n",
    "        s = self.clean.clean_list(self.tag.pos_text(self.get.getText(url))) #вытаскиваем из текста все глаголы без тегов\n",
    "        b = self.verbs.lemmatize(s) #приводим глаголы к начальной форме, указываем количество повторений\n",
    "        c = (' '.join(self.task.task_text(self.get.getText(url), b))) #удаляем глаголы из текста статьи\n",
    "        d = c + b\n",
    "        d = ''.join(d)\n",
    "        return (d)\n",
    "    "
   ]
  },
  {
   "cell_type": "code",
   "execution_count": 18,
   "id": "5b5fffcf",
   "metadata": {
    "scrolled": true
   },
   "outputs": [
    {
     "name": "stdout",
     "output_type": "stream",
     "text": [
      "Facade took 2.8739 secs\n"
     ]
    }
   ],
   "source": [
    "make = Facade()"
   ]
  },
  {
   "cell_type": "code",
   "execution_count": 19,
   "id": "98aba6ca",
   "metadata": {},
   "outputs": [],
   "source": [
    "#make.Aufgabe('https://www.ferienwiki.de/feiertage/heilige-drei-koenige')"
   ]
  },
  {
   "cell_type": "code",
   "execution_count": 20,
   "id": "94154930",
   "metadata": {},
   "outputs": [],
   "source": [
    "bot = telebot.TeleBot('5763039812:AAF2Kh0sIk5dRT9giAt7rRSDWK8bk8puh28')"
   ]
  },
  {
   "cell_type": "code",
   "execution_count": 21,
   "id": "2e448956",
   "metadata": {},
   "outputs": [],
   "source": [
    "@bot.message_handler(commands=['start'])\n",
    "def start(message):\n",
    "    mess = f'Привет, {message.from_user.first_name}. Пришли мне ссылку на сайт на немецком языке, из которого ты хочешь сделать задание'\n",
    "    bot.send_message(message.chat.id, mess, parse_mode='html')"
   ]
  },
  {
   "cell_type": "code",
   "execution_count": 22,
   "id": "8560ee4a",
   "metadata": {},
   "outputs": [],
   "source": [
    "@bot.message_handler()\n",
    "def get_user_text(message):\n",
    "    if message.text[0:4] == 'http':\n",
    "        bot.register_next_step_handler(message, make.Aufgabe)\n",
    "        \n",
    "        f = open('new.txt', 'w', encoding=\"utf-8\") #создаём файл и записываем в него текст с пропусками и глаголы\n",
    "        f.write(make.Aufgabe(''.join(message.text)))\n",
    "        f.close()\n",
    "        with open('new.txt', \"rb\") as file:\n",
    "            bot.send_document(message.chat.id, document=file)\n",
    "                                             \n",
    "    else:\n",
    "        bot.send_message(message.chat.id, \"\"\" \n",
    "              Кажется, это не ссылка. Проверь формат.\"\"\")"
   ]
  },
  {
   "cell_type": "code",
   "execution_count": null,
   "id": "e41b7560",
   "metadata": {
    "scrolled": false
   },
   "outputs": [],
   "source": [
    "bot.polling(none_stop=True)"
   ]
  },
  {
   "cell_type": "code",
   "execution_count": null,
   "id": "a59aea9d",
   "metadata": {},
   "outputs": [],
   "source": []
  }
 ],
 "metadata": {
  "kernelspec": {
   "display_name": "Python 3 (ipykernel)",
   "language": "python",
   "name": "python3"
  },
  "language_info": {
   "codemirror_mode": {
    "name": "ipython",
    "version": 3
   },
   "file_extension": ".py",
   "mimetype": "text/x-python",
   "name": "python",
   "nbconvert_exporter": "python",
   "pygments_lexer": "ipython3",
   "version": "3.10.6"
  }
 },
 "nbformat": 4,
 "nbformat_minor": 5
}
